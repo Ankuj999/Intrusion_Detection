{
 "cells": [
  {
   "cell_type": "code",
   "execution_count": 1,
   "id": "e829bfde-f31e-4803-9ee5-2af77acbd85c",
   "metadata": {},
   "outputs": [
    {
     "ename": "FileNotFoundError",
     "evalue": "[Errno 2] No such file or directory: 'xgb_model_freq.pkl'",
     "output_type": "error",
     "traceback": [
      "\u001b[1;31m---------------------------------------------------------------------------\u001b[0m",
      "\u001b[1;31mFileNotFoundError\u001b[0m                         Traceback (most recent call last)",
      "Cell \u001b[1;32mIn[1], line 8\u001b[0m\n\u001b[0;32m      5\u001b[0m \u001b[38;5;28;01mimport\u001b[39;00m \u001b[38;5;21;01mmatplotlib\u001b[39;00m\u001b[38;5;21;01m.\u001b[39;00m\u001b[38;5;21;01mpyplot\u001b[39;00m \u001b[38;5;28;01mas\u001b[39;00m \u001b[38;5;21;01mplt\u001b[39;00m\n\u001b[0;32m      7\u001b[0m \u001b[38;5;66;03m# Load model and encoders\u001b[39;00m\n\u001b[1;32m----> 8\u001b[0m model \u001b[38;5;241m=\u001b[39m joblib\u001b[38;5;241m.\u001b[39mload(\u001b[38;5;124m\"\u001b[39m\u001b[38;5;124mxgb_model_freq.pkl\u001b[39m\u001b[38;5;124m\"\u001b[39m)  \u001b[38;5;66;03m# Use your frequency-encoded model\u001b[39;00m\n\u001b[0;32m      9\u001b[0m encoder \u001b[38;5;241m=\u001b[39m joblib\u001b[38;5;241m.\u001b[39mload(\u001b[38;5;124m\"\u001b[39m\u001b[38;5;124mfreq_encoder.pkl\u001b[39m\u001b[38;5;124m\"\u001b[39m)  \u001b[38;5;66;03m# Optional if needed\u001b[39;00m\n\u001b[0;32m     10\u001b[0m scaler \u001b[38;5;241m=\u001b[39m joblib\u001b[38;5;241m.\u001b[39mload(\u001b[38;5;124m\"\u001b[39m\u001b[38;5;124mscaler.pkl\u001b[39m\u001b[38;5;124m\"\u001b[39m)         \u001b[38;5;66;03m# Optional if used\u001b[39;00m\n",
      "File \u001b[1;32m~\\anaconda3\\Lib\\site-packages\\joblib\\numpy_pickle.py:650\u001b[0m, in \u001b[0;36mload\u001b[1;34m(filename, mmap_mode)\u001b[0m\n\u001b[0;32m    648\u001b[0m         obj \u001b[38;5;241m=\u001b[39m _unpickle(fobj)\n\u001b[0;32m    649\u001b[0m \u001b[38;5;28;01melse\u001b[39;00m:\n\u001b[1;32m--> 650\u001b[0m     \u001b[38;5;28;01mwith\u001b[39;00m \u001b[38;5;28mopen\u001b[39m(filename, \u001b[38;5;124m'\u001b[39m\u001b[38;5;124mrb\u001b[39m\u001b[38;5;124m'\u001b[39m) \u001b[38;5;28;01mas\u001b[39;00m f:\n\u001b[0;32m    651\u001b[0m         \u001b[38;5;28;01mwith\u001b[39;00m _read_fileobject(f, filename, mmap_mode) \u001b[38;5;28;01mas\u001b[39;00m fobj:\n\u001b[0;32m    652\u001b[0m             \u001b[38;5;28;01mif\u001b[39;00m \u001b[38;5;28misinstance\u001b[39m(fobj, \u001b[38;5;28mstr\u001b[39m):\n\u001b[0;32m    653\u001b[0m                 \u001b[38;5;66;03m# if the returned file object is a string, this means we\u001b[39;00m\n\u001b[0;32m    654\u001b[0m                 \u001b[38;5;66;03m# try to load a pickle file generated with an version of\u001b[39;00m\n\u001b[0;32m    655\u001b[0m                 \u001b[38;5;66;03m# Joblib so we load it with joblib compatibility function.\u001b[39;00m\n",
      "\u001b[1;31mFileNotFoundError\u001b[0m: [Errno 2] No such file or directory: 'xgb_model_freq.pkl'"
     ]
    }
   ],
   "source": [
    "import streamlit as st\n",
    "import pandas as pd\n",
    "import joblib\n",
    "import time\n",
    "import matplotlib.pyplot as plt\n",
    "\n",
    "# Load model and encoders\n",
    "model = joblib.load(\"xgb_model_freq.pkl\")  # Use your frequency-encoded model\n",
    "encoder = joblib.load(\"freq_encoder.pkl\")  # Optional if needed\n",
    "scaler = joblib.load(\"scaler.pkl\")         # Optional if used\n",
    "\n",
    "# Load the real-time data\n",
    "df = pd.read_csv(\"real_time_sample.csv\")\n",
    "X = df.drop(\"label\", axis=1)\n",
    "y_true = df[\"label\"].values\n",
    "\n",
    "# Set up session state\n",
    "if \"i\" not in st.session_state:\n",
    "    st.session_state.i = 0\n",
    "    st.session_state.anomaly_count = 0\n",
    "    st.session_state.confidences = []\n",
    "\n",
    "st.title(\"🔍 Real-Time IoMT Anomaly Detection Dashboard\")\n",
    "st.markdown(\"Streaming predictions for 100 messages from IoMT network...\")\n",
    "\n",
    "placeholder = st.empty()\n",
    "\n",
    "# Simulate real-time prediction\n",
    "if st.session_state.i < len(X):\n",
    "    row = X.iloc[st.session_state.i].values.reshape(1, -1)\n",
    "    pred = model.predict(row)[0]\n",
    "    prob = model.predict_proba(row)[0][1]  # Confidence score for anomaly\n",
    "\n",
    "    actual = y_true[st.session_state.i]\n",
    "    if pred == 1:\n",
    "        st.session_state.anomaly_count += 1\n",
    "    st.session_state.confidences.append(prob)\n",
    "\n",
    "    with placeholder.container():\n",
    "        st.markdown(f\"### ▶️ Message {st.session_state.i+1}/100\")\n",
    "        st.write(f\"**Prediction:** {'Anomaly' if pred==1 else 'Normal'}\")\n",
    "        st.write(f\"**Actual:** {'Anomaly' if actual==1 else 'Normal'}\")\n",
    "        st.write(f\"**Confidence Score:** {prob:.3f}\")\n",
    "        st.success(f\"🚨 Total Anomalies Detected: {st.session_state.anomaly_count}\")\n",
    "\n",
    "        # Plot confidence scores\n",
    "        fig, ax = plt.subplots()\n",
    "        ax.plot(st.session_state.confidences, color=\"orange\", label=\"Anomaly Confidence\")\n",
    "        ax.axhline(0.5, color='red', linestyle='--', label='Threshold')\n",
    "        ax.set_xlabel(\"Message Index\")\n",
    "        ax.set_ylabel(\"Confidence\")\n",
    "        ax.set_title(\"📈 Model Confidence Over Time\")\n",
    "        ax.legend()\n",
    "        st.pyplot(fig)\n",
    "\n",
    "    st.session_state.i += 1\n",
    "    time.sleep(0.5)\n",
    "else:\n",
    "    st.success(\"✅ All messages processed.\")"
   ]
  },
  {
   "cell_type": "code",
   "execution_count": null,
   "id": "66da7899-47eb-4b8b-a468-8a2c440c7f0a",
   "metadata": {},
   "outputs": [],
   "source": []
  }
 ],
 "metadata": {
  "kernelspec": {
   "display_name": "Python 3 (ipykernel)",
   "language": "python",
   "name": "python3"
  },
  "language_info": {
   "codemirror_mode": {
    "name": "ipython",
    "version": 3
   },
   "file_extension": ".py",
   "mimetype": "text/x-python",
   "name": "python",
   "nbconvert_exporter": "python",
   "pygments_lexer": "ipython3",
   "version": "3.12.4"
  }
 },
 "nbformat": 4,
 "nbformat_minor": 5
}
